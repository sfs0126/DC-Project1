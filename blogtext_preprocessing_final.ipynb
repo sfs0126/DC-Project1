{
 "cells": [
  {
   "cell_type": "code",
   "execution_count": 1,
   "metadata": {},
   "outputs": [],
   "source": [
    "import pyspark\n",
    "from pyspark.sql import SQLContext\n",
    "from pyspark.sql import SparkSession\n",
    "from pyspark.conf import SparkConf\n",
    "\n",
    "# create spark contexts\n",
    "\n",
    "sc = pyspark.SparkContext()\n",
    "sqlContext = SQLContext(sc)"
   ]
  },
  {
   "cell_type": "code",
   "execution_count": 2,
   "metadata": {},
   "outputs": [],
   "source": [
    "spark = SparkSession \\\n",
    "    .builder \\\n",
    "    .master(\"local[*]\")\\\n",
    "    .appName(\"blogtext_preprocessing\") \\\n",
    "    .getOrCreate()"
   ]
  },
  {
   "cell_type": "code",
   "execution_count": 3,
   "metadata": {},
   "outputs": [
    {
     "data": {
      "text/plain": [
       "'2.4.4'"
      ]
     },
     "execution_count": 3,
     "metadata": {},
     "output_type": "execute_result"
    }
   ],
   "source": [
    "spark.version"
   ]
  },
  {
   "cell_type": "markdown",
   "metadata": {},
   "source": [
    "load blogtext.csv"
   ]
  },
  {
   "cell_type": "code",
   "execution_count": 4,
   "metadata": {},
   "outputs": [
    {
     "name": "stdout",
     "output_type": "stream",
     "text": [
      "+-------+------+---+-----------------+--------+------------+--------------------+\n",
      "|     id|gender|age|            topic|    sign|        date|                text|\n",
      "+-------+------+---+-----------------+--------+------------+--------------------+\n",
      "|2059027|  male| 15|          Student|     Leo| 14,May,2004|           Info h...|\n",
      "|2059027|  male| 15|          Student|     Leo| 13,May,2004|           These ...|\n",
      "|2059027|  male| 15|          Student|     Leo| 12,May,2004|           In het...|\n",
      "|2059027|  male| 15|          Student|     Leo| 12,May,2004|           testin...|\n",
      "|3581210|  male| 33|InvestmentBanking|Aquarius|11,June,2004|             Than...|\n",
      "+-------+------+---+-----------------+--------+------------+--------------------+\n",
      "only showing top 5 rows\n",
      "\n"
     ]
    }
   ],
   "source": [
    "blogtext_df = spark.read.csv('/spring2021/project1/blogtext.csv',header=True, inferSchema='true')\n",
    "\n",
    "blogtext_df.show(5)"
   ]
  },
  {
   "cell_type": "code",
   "execution_count": 5,
   "metadata": {},
   "outputs": [
    {
     "name": "stdout",
     "output_type": "stream",
     "text": [
      "root\n",
      " |-- id: integer (nullable = true)\n",
      " |-- gender: string (nullable = true)\n",
      " |-- age: integer (nullable = true)\n",
      " |-- topic: string (nullable = true)\n",
      " |-- sign: string (nullable = true)\n",
      " |-- date: string (nullable = true)\n",
      " |-- text: string (nullable = true)\n",
      "\n"
     ]
    }
   ],
   "source": [
    "blogtext_df.printSchema()"
   ]
  },
  {
   "cell_type": "code",
   "execution_count": 6,
   "metadata": {},
   "outputs": [
    {
     "data": {
      "text/plain": [
       "pyspark.sql.dataframe.DataFrame"
      ]
     },
     "execution_count": 6,
     "metadata": {},
     "output_type": "execute_result"
    }
   ],
   "source": [
    "type(blogtext_df)"
   ]
  },
  {
   "cell_type": "code",
   "execution_count": 7,
   "metadata": {},
   "outputs": [
    {
     "data": {
      "text/plain": [
       "681284"
      ]
     },
     "execution_count": 7,
     "metadata": {},
     "output_type": "execute_result"
    }
   ],
   "source": [
    "blogtext_df.count()"
   ]
  },
  {
   "cell_type": "markdown",
   "metadata": {},
   "source": [
    "setup pyspark udf functions"
   ]
  },
  {
   "cell_type": "code",
   "execution_count": 8,
   "metadata": {},
   "outputs": [],
   "source": [
    "from pyspark.sql.functions import udf\n",
    "from pyspark.sql.types import StringType\n",
    "import nltk\n",
    "import preproc as pp\n",
    "\n",
    "# preproc is a python file that has functions defined to do the \"text\" column preprocessing.\n",
    "\n",
    "# Register all the functions in Preproc with Spark Context\n",
    "\n",
    "remove_stops_udf = udf(pp.remove_stops, StringType())\n",
    "remove_features_udf = udf(pp.remove_features, StringType())\n",
    "tag_and_remove_udf = udf(pp.tag_and_remove, StringType())\n",
    "lemmatize_udf = udf(pp.lemmatize, StringType())\n"
   ]
  },
  {
   "cell_type": "markdown",
   "metadata": {},
   "source": [
    "packages downloaded from nltk"
   ]
  },
  {
   "cell_type": "code",
   "execution_count": 9,
   "metadata": {},
   "outputs": [],
   "source": [
    "#import nltk\n",
    "#nltk.download('stopwords')\n",
    "#nltk.download('averaged_perceptron_tagger')\n",
    "#nltk.download('wordnet')"
   ]
  },
  {
   "cell_type": "markdown",
   "metadata": {},
   "source": [
    "remove stop words"
   ]
  },
  {
   "cell_type": "code",
   "execution_count": 10,
   "metadata": {},
   "outputs": [],
   "source": [
    "# get the raw columns\n",
    "raw_cols = blogtext_df.columns\n",
    "\n",
    "rm_stops_df = blogtext_df.select(raw_cols)\\\n",
    "                   .withColumn(\"stop_text\", remove_stops_udf(blogtext_df[\"text\"]))"
   ]
  },
  {
   "cell_type": "markdown",
   "metadata": {},
   "source": [
    "remove column \"text\" from \"rm_stops_df\".now we are going to use \"stop_text\" column which is the one with all the stopwords removed."
   ]
  },
  {
   "cell_type": "code",
   "execution_count": 11,
   "metadata": {},
   "outputs": [],
   "source": [
    "from functools import reduce\n",
    "from pyspark.sql import DataFrame\n",
    "\n",
    "rm_stops_df = reduce(DataFrame.drop, ['text'], rm_stops_df)\n",
    "raw_cols = rm_stops_df.columns"
   ]
  },
  {
   "cell_type": "markdown",
   "metadata": {},
   "source": [
    "remove irrelevant features"
   ]
  },
  {
   "cell_type": "code",
   "execution_count": 12,
   "metadata": {},
   "outputs": [],
   "source": [
    "rm_features_df = rm_stops_df.select(raw_cols)\\\n",
    "                            .withColumn(\"feat_text\", \\\n",
    "                            remove_features_udf(rm_stops_df[\"stop_text\"]))\n"
   ]
  },
  {
   "cell_type": "code",
   "execution_count": 13,
   "metadata": {},
   "outputs": [],
   "source": [
    "#remove column \"stop_text\" from \"rm_stops_df\".\n",
    "#now we are going to use \"feat_text\" column which is the one with all the unwanted features removed.\n",
    "\n",
    "rm_features_df = reduce(DataFrame.drop, ['stop_text'], rm_features_df)\n",
    "\n",
    "raw_cols = rm_features_df.columns"
   ]
  },
  {
   "cell_type": "markdown",
   "metadata": {},
   "source": [
    "tag the words"
   ]
  },
  {
   "cell_type": "code",
   "execution_count": 14,
   "metadata": {},
   "outputs": [],
   "source": [
    "tagged_df = rm_features_df.select(raw_cols) \\\n",
    "                          .withColumn(\"tagged_text\", \\\n",
    "                           tag_and_remove_udf(rm_features_df.feat_text))"
   ]
  },
  {
   "cell_type": "code",
   "execution_count": 15,
   "metadata": {},
   "outputs": [],
   "source": [
    "#remove column \"feat_text\" from \"rm_stops_df\".\n",
    "#now we are going to use \"tagged_text\" column which is the one with all the unwanted features removed.\n",
    "\n",
    "tagged_df = reduce(DataFrame.drop, ['feat_text'], tagged_df)\n",
    "\n",
    "raw_cols = tagged_df.columns"
   ]
  },
  {
   "cell_type": "markdown",
   "metadata": {},
   "source": [
    "lemmatization of words"
   ]
  },
  {
   "cell_type": "code",
   "execution_count": 16,
   "metadata": {},
   "outputs": [],
   "source": [
    "lemm_df = tagged_df.select(raw_cols) \\\n",
    "                   .withColumn(\"text\", lemmatize_udf(tagged_df[\"tagged_text\"]))"
   ]
  },
  {
   "cell_type": "code",
   "execution_count": 17,
   "metadata": {},
   "outputs": [],
   "source": [
    "#remove column \"tagged_text\" from \"rm_stops_df\".\n",
    "#now we are going to use \"text\" column which is the one with all the unwanted features removed.\n",
    "\n",
    "lemm_df = reduce(DataFrame.drop, ['tagged_text'], lemm_df)\n",
    "\n",
    "raw_cols = lemm_df.columns"
   ]
  },
  {
   "cell_type": "code",
   "execution_count": 18,
   "metadata": {},
   "outputs": [
    {
     "name": "stdout",
     "output_type": "stream",
     "text": [
      "+-------+------+---+-----------------+--------+------------+--------------------+\n",
      "|     id|gender|age|            topic|    sign|        date|                text|\n",
      "+-------+------+---+-----------------+--------+------------+--------------------+\n",
      "|2059027|  male| 15|          Student|     Leo| 14,May,2004|info find page pd...|\n",
      "|2059027|  male| 15|          Student|     Leo| 13,May,2004|team member drewe...|\n",
      "|2059027|  male| 15|          Student|     Leo| 12,May,2004|het kader van ker...|\n",
      "|2059027|  male| 15|          Student|     Leo| 12,May,2004|           test test|\n",
      "|3581210|  male| 33|InvestmentBanking|Aquarius|11,June,2004|thanks yahoo tool...|\n",
      "+-------+------+---+-----------------+--------+------------+--------------------+\n",
      "only showing top 5 rows\n",
      "\n"
     ]
    }
   ],
   "source": [
    "# lemm_df is now clean\n",
    "\n",
    "lemm_df.show(5)\n"
   ]
  },
  {
   "cell_type": "markdown",
   "metadata": {},
   "source": [
    "Group data by topic"
   ]
  },
  {
   "cell_type": "code",
   "execution_count": 19,
   "metadata": {},
   "outputs": [
    {
     "data": {
      "text/plain": [
       "40"
      ]
     },
     "execution_count": 19,
     "metadata": {},
     "output_type": "execute_result"
    }
   ],
   "source": [
    "from pyspark.sql.functions import col\n",
    "\n",
    "topic_count = lemm_df.groupBy(\"topic\").count().orderBy(col(\"count\").desc())\n",
    "\n",
    "topic_count.count()"
   ]
  },
  {
   "cell_type": "markdown",
   "metadata": {},
   "source": [
    "There are 40 interesting topics in the blog."
   ]
  },
  {
   "cell_type": "code",
   "execution_count": 20,
   "metadata": {},
   "outputs": [
    {
     "name": "stdout",
     "output_type": "stream",
     "text": [
      "+--------------------+------+\n",
      "|topic               |count |\n",
      "+--------------------+------+\n",
      "|indUnk              |251015|\n",
      "|Student             |153903|\n",
      "|Technology          |42055 |\n",
      "|Arts                |32449 |\n",
      "|Education           |29633 |\n",
      "|Communications-Media|20140 |\n",
      "|Internet            |16006 |\n",
      "|Non-Profit          |14700 |\n",
      "|Engineering         |11653 |\n",
      "|Law                 |9040  |\n",
      "|Publishing          |7753  |\n",
      "|Science             |7269  |\n",
      "|Government          |6907  |\n",
      "|Consulting          |5862  |\n",
      "|Religion            |5235  |\n",
      "|Fashion             |4851  |\n",
      "|Marketing           |4769  |\n",
      "|Advertising         |4676  |\n",
      "|BusinessServices    |4500  |\n",
      "|Banking             |4049  |\n",
      "+--------------------+------+\n",
      "only showing top 20 rows\n",
      "\n"
     ]
    }
   ],
   "source": [
    "topic_count.show(truncate=False)"
   ]
  },
  {
   "cell_type": "markdown",
   "metadata": {},
   "source": [
    "plot to show all the topics in the blog"
   ]
  },
  {
   "cell_type": "code",
   "execution_count": 22,
   "metadata": {},
   "outputs": [
    {
     "data": {
      "image/png": "[encoded data removed]",
      "text/plain": [
       "<Figure size 720x360 with 1 Axes>"
      ]
     },
     "metadata": {
      "needs_background": "light"
     },
     "output_type": "display_data"
    }
   ],
   "source": [
    "import matplotlib.pyplot as plt\n",
    "import pandas as pd\n",
    "df_pandas = topic_count.toPandas()\n",
    "df_pandas.plot(figsize = (10,5), kind='bar', x='topic', y='count', colormap='winter_r')\n",
    "plt.show()"
   ]
  },
  {
   "cell_type": "markdown",
   "metadata": {},
   "source": [
    "indUnk and Student are the topics highly discussed. Other topics have less than 50,000 records."
   ]
  },
  {
   "cell_type": "markdown",
   "metadata": {},
   "source": [
    "filter and analyse topic \"indUnk\""
   ]
  },
  {
   "cell_type": "code",
   "execution_count": 23,
   "metadata": {},
   "outputs": [
    {
     "data": {
      "text/plain": [
       "251015"
      ]
     },
     "execution_count": 23,
     "metadata": {},
     "output_type": "execute_result"
    }
   ],
   "source": [
    "topic_indUnk = lemm_df.select('text').filter(lemm_df.topic == \"indUnk\") \n",
    "topic_indUnk.count()"
   ]
  },
  {
   "cell_type": "markdown",
   "metadata": {},
   "source": [
    "converting the filtered dataframe to rdd"
   ]
  },
  {
   "cell_type": "code",
   "execution_count": 24,
   "metadata": {},
   "outputs": [
    {
     "data": {
      "text/plain": [
       "[['optimist pessimist argument nooooo stop think boyfriend allow obsess lot crazy think go work crazy think work think yes insane believe know go happen thing happen get hope drop flat face year make think different guy meet hurt way guy right course guy know break heart know gosh know'],\n",
       " ['look look eye see tear look eye gaze yours grief hope anguish love know see lock stare try freeze moment conversation pass word spoken unsure next run finger hair hug position odd becomes comfort thing entire world bell ring bell savior betray bell stand hand hand world go tell say back weekly say good bye walk twenty step look see watch fade memory run kiss perpetual kiss part walk warmth remain lip take huge part life entire heart kiss remember forget love good bye']]"
      ]
     },
     "execution_count": 24,
     "metadata": {},
     "output_type": "execute_result"
    }
   ],
   "source": [
    "topic_indUnk_rdd = topic_indUnk.rdd.map(list)\n",
    "topic_indUnk_rdd.take(2)"
   ]
  },
  {
   "cell_type": "markdown",
   "metadata": {},
   "source": [
    "removing the square brackets at the begin and end of each row"
   ]
  },
  {
   "cell_type": "code",
   "execution_count": 25,
   "metadata": {},
   "outputs": [
    {
     "data": {
      "text/plain": [
       "[\"'optimist pessimist argument nooooo stop think boyfriend allow obsess lot crazy think go work crazy think work think yes insane believe know go happen thing happen get hope drop flat face year make think different guy meet hurt way guy right course guy know break heart know gosh know'\",\n",
       " \"'look look eye see tear look eye gaze yours grief hope anguish love know see lock stare try freeze moment conversation pass word spoken unsure next run finger hair hug position odd becomes comfort thing entire world bell ring bell savior betray bell stand hand hand world go tell say back weekly say good bye walk twenty step look see watch fade memory run kiss perpetual kiss part walk warmth remain lip take huge part life entire heart kiss remember forget love good bye'\"]"
      ]
     },
     "execution_count": 25,
     "metadata": {},
     "output_type": "execute_result"
    }
   ],
   "source": [
    "import re\n",
    "\n",
    "topic_indUnk_rdd = topic_indUnk_rdd.map(lambda x: re.sub('\\[|\\]', '', str(x)))\n",
    "topic_indUnk_rdd.take(2)"
   ]
  },
  {
   "cell_type": "markdown",
   "metadata": {},
   "source": [
    "split rdd"
   ]
  },
  {
   "cell_type": "code",
   "execution_count": 26,
   "metadata": {},
   "outputs": [
    {
     "data": {
      "text/plain": [
       "[\"'optimist\",\n",
       " 'pessimist',\n",
       " 'argument',\n",
       " 'nooooo',\n",
       " 'stop',\n",
       " 'think',\n",
       " 'boyfriend',\n",
       " 'allow',\n",
       " 'obsess',\n",
       " 'lot',\n",
       " 'crazy',\n",
       " 'think',\n",
       " 'go',\n",
       " 'work',\n",
       " 'crazy',\n",
       " 'think',\n",
       " 'work',\n",
       " 'think',\n",
       " 'yes',\n",
       " 'insane']"
      ]
     },
     "execution_count": 26,
     "metadata": {},
     "output_type": "execute_result"
    }
   ],
   "source": [
    "split_rdd = topic_indUnk_rdd.flatMap(lambda line: line.split(\" \"))\n",
    "split_rdd.take(20)"
   ]
  },
  {
   "cell_type": "code",
   "execution_count": null,
   "metadata": {},
   "outputs": [],
   "source": [
    "#print(\"Total number of words in 'indUnk' topic:\", split_rdd.count())"
   ]
  },
  {
   "cell_type": "markdown",
   "metadata": {},
   "source": [
    "map each word with 1, then reduce by key(words), and finally sort by key(count)"
   ]
  },
  {
   "cell_type": "code",
   "execution_count": 31,
   "metadata": {},
   "outputs": [],
   "source": [
    "map_rdd = split_rdd.map(lambda x: (x,1))\n",
    "reduce_rdd = map_rdd.reduceByKey(lambda a,b: a+b)\n",
    "sort_rdd = reduce_rdd.map(lambda x: (x[1],x[0])).sortByKey()"
   ]
  },
  {
   "cell_type": "markdown",
   "metadata": {},
   "source": [
    "show word count for topic \"indUnk\""
   ]
  },
  {
   "cell_type": "code",
   "execution_count": 33,
   "metadata": {},
   "outputs": [
    {
     "data": {
      "text/plain": [
       "[(1, \"'aaarrrggghhhhhhhhgggghhhhhh\"),\n",
       " (1, 'brianed'),\n",
       " (1, 'debbs'),\n",
       " (1, 'vickrey'),\n",
       " (1, 'intn'),\n",
       " (1, \"'kaploink\"),\n",
       " (1, 'dialkyl'),\n",
       " (1, 'dibacle'),\n",
       " (1, 'beastiest'),\n",
       " (1, 'galililiililii'),\n",
       " (1, 'riioot'),\n",
       " (1, 'soib'),\n",
       " (1, 'xxthe'),\n",
       " (1, 'putaran'),\n",
       " (1, 'megawati'),\n",
       " (1, 'tigas'),\n",
       " (1, 'hongry'),\n",
       " (1, 'urshur'),\n",
       " (1, 'thimbleful'),\n",
       " (1, 'silflay')]"
      ]
     },
     "execution_count": 33,
     "metadata": {},
     "output_type": "execute_result"
    }
   ],
   "source": [
    "#for word in sort_rdd.take(20):\n",
    "    #print(word[1], word[0])\n",
    "sort_rdd.take(20)    "
   ]
  },
  {
   "cell_type": "code",
   "execution_count": 68,
   "metadata": {},
   "outputs": [],
   "source": [
    "sort_df = spark.createDataFrame(sort_rdd)"
   ]
  },
  {
   "cell_type": "code",
   "execution_count": 69,
   "metadata": {},
   "outputs": [
    {
     "name": "stdout",
     "output_type": "stream",
     "text": [
      "+---+--------------------+\n",
      "| _1|                  _2|\n",
      "+---+--------------------+\n",
      "|  1|'aaarrrggghhhhhhh...|\n",
      "|  1|             brianed|\n",
      "|  1|               debbs|\n",
      "|  1|             vickrey|\n",
      "|  1|                intn|\n",
      "|  1|           'kaploink|\n",
      "|  1|             dialkyl|\n",
      "|  1|             dibacle|\n",
      "|  1|           beastiest|\n",
      "|  1|      galililiililii|\n",
      "|  1|              riioot|\n",
      "|  1|                soib|\n",
      "|  1|               xxthe|\n",
      "|  1|             putaran|\n",
      "|  1|            megawati|\n",
      "|  1|               tigas|\n",
      "|  1|              hongry|\n",
      "|  1|              urshur|\n",
      "|  1|          thimbleful|\n",
      "|  1|             silflay|\n",
      "+---+--------------------+\n",
      "only showing top 20 rows\n",
      "\n"
     ]
    }
   ],
   "source": [
    "sort_df.show()"
   ]
  },
  {
   "cell_type": "code",
   "execution_count": 70,
   "metadata": {},
   "outputs": [
    {
     "name": "stdout",
     "output_type": "stream",
     "text": [
      "+--------------------+\n",
      "|                  _2|\n",
      "+--------------------+\n",
      "|'aaarrrggghhhhhhh...|\n",
      "|             brianed|\n",
      "|               debbs|\n",
      "|             vickrey|\n",
      "|                intn|\n",
      "|           'kaploink|\n",
      "|             dialkyl|\n",
      "|             dibacle|\n",
      "|           beastiest|\n",
      "|      galililiililii|\n",
      "|              riioot|\n",
      "|                soib|\n",
      "|               xxthe|\n",
      "|             putaran|\n",
      "|            megawati|\n",
      "|               tigas|\n",
      "|              hongry|\n",
      "|              urshur|\n",
      "|          thimbleful|\n",
      "|             silflay|\n",
      "+--------------------+\n",
      "only showing top 20 rows\n",
      "\n"
     ]
    }
   ],
   "source": [
    "sort_df.select(\"_2\").show()"
   ]
  },
  {
   "cell_type": "code",
   "execution_count": 34,
   "metadata": {},
   "outputs": [],
   "source": [
    "#import matplotlib.pyplot as plt\n",
    "\n",
    "#num_bins = 50\n",
    "#n, bins, patches = plt.hist(sort_rdd.collect(), num_bins, normed=1, facecolor='green', alpha=0.5)"
   ]
  },
  {
   "cell_type": "markdown",
   "metadata": {},
   "source": [
    "filter and analyse topic \"Student\".following the same steps as we did with topic \"indUnk\""
   ]
  },
  {
   "cell_type": "code",
   "execution_count": 35,
   "metadata": {},
   "outputs": [
    {
     "data": {
      "text/plain": [
       "153903"
      ]
     },
     "execution_count": 35,
     "metadata": {},
     "output_type": "execute_result"
    }
   ],
   "source": [
    "topic_student = lemm_df.select('text').filter(lemm_df.topic == \"Student\") \n",
    "topic_student.count()"
   ]
  },
  {
   "cell_type": "code",
   "execution_count": 36,
   "metadata": {},
   "outputs": [
    {
     "data": {
      "text/plain": [
       "[['info find page pdf file wait untill team leader process learns html'],\n",
       " ['team member drewes van der laag urllink mail ruiyu xie urllink mail bryan aaldering urllink mail']]"
      ]
     },
     "execution_count": 36,
     "metadata": {},
     "output_type": "execute_result"
    }
   ],
   "source": [
    "topic_student_rdd = topic_student.rdd.map(list)\n",
    "topic_student_rdd.take(2)"
   ]
  },
  {
   "cell_type": "code",
   "execution_count": 37,
   "metadata": {},
   "outputs": [
    {
     "data": {
      "text/plain": [
       "[\"'info find page pdf file wait untill team leader process learns html'\",\n",
       " \"'team member drewes van der laag urllink mail ruiyu xie urllink mail bryan aaldering urllink mail'\"]"
      ]
     },
     "execution_count": 37,
     "metadata": {},
     "output_type": "execute_result"
    }
   ],
   "source": [
    "#import re\n",
    "\n",
    "topic_student_rdd = topic_student_rdd.map(lambda x: re.sub('\\[|\\]', '', str(x)))\n",
    "topic_student_rdd.take(2)"
   ]
  },
  {
   "cell_type": "code",
   "execution_count": 38,
   "metadata": {},
   "outputs": [
    {
     "data": {
      "text/plain": [
       "[\"'info\",\n",
       " 'find',\n",
       " 'page',\n",
       " 'pdf',\n",
       " 'file',\n",
       " 'wait',\n",
       " 'untill',\n",
       " 'team',\n",
       " 'leader',\n",
       " 'process',\n",
       " 'learns',\n",
       " \"html'\",\n",
       " \"'team\",\n",
       " 'member',\n",
       " 'drewes',\n",
       " 'van',\n",
       " 'der',\n",
       " 'laag',\n",
       " 'urllink',\n",
       " 'mail']"
      ]
     },
     "execution_count": 38,
     "metadata": {},
     "output_type": "execute_result"
    }
   ],
   "source": [
    "split_rdd1 = topic_student_rdd.flatMap(lambda line: line.split(\" \"))\n",
    "split_rdd1.take(20)"
   ]
  },
  {
   "cell_type": "code",
   "execution_count": 39,
   "metadata": {},
   "outputs": [
    {
     "name": "stdout",
     "output_type": "stream",
     "text": [
      "Total number of words in 'Student' topic: 12788216\n"
     ]
    }
   ],
   "source": [
    "print(\"Total number of words in 'Student' topic:\", split_rdd1.count())"
   ]
  },
  {
   "cell_type": "code",
   "execution_count": 40,
   "metadata": {},
   "outputs": [],
   "source": [
    "map_rdd1 = split_rdd1.map(lambda x: (x,1))\n",
    "reduce_rdd1 = map_rdd1.reduceByKey(lambda a,b: a+b)\n",
    "sort_rdd1 = reduce_rdd1.map(lambda x: (x[1],x[0])).sortByKey()"
   ]
  },
  {
   "cell_type": "markdown",
   "metadata": {},
   "source": [
    "show word count for topic \"Student\""
   ]
  },
  {
   "cell_type": "code",
   "execution_count": 41,
   "metadata": {},
   "outputs": [
    {
     "data": {
      "text/plain": [
       "[(1, 'dragonfruit'),\n",
       " (1, 'batallia'),\n",
       " (1, 'iways'),\n",
       " (1, 'bariloche'),\n",
       " (1, 'talko'),\n",
       " (1, 'shinsplints'),\n",
       " (1, 'delicioso'),\n",
       " (1, 'atestado'),\n",
       " (1, 'cagada'),\n",
       " (1, 'bidibidibumbum'),\n",
       " (1, 'vaaa'),\n",
       " (1, 'sopita'),\n",
       " (1, 'llevo'),\n",
       " (1, 'abrio'),\n",
       " (1, 'thear'),\n",
       " (1, \"'stealthy\"),\n",
       " (1, \"sarachichita'\"),\n",
       " (1, 'dificulty'),\n",
       " (1, 'asphxia'),\n",
       " (1, 'intacto')]"
      ]
     },
     "execution_count": 41,
     "metadata": {},
     "output_type": "execute_result"
    }
   ],
   "source": [
    "#for word in sort_rdd1.take(20):\n",
    "    #print(word[1], word[0])\n",
    "sort_rdd1.take(20)    "
   ]
  },
  {
   "cell_type": "markdown",
   "metadata": {},
   "source": [
    "analyse topic \"Technology\""
   ]
  },
  {
   "cell_type": "code",
   "execution_count": 42,
   "metadata": {},
   "outputs": [
    {
     "data": {
      "text/plain": [
       "42055"
      ]
     },
     "execution_count": 42,
     "metadata": {},
     "output_type": "execute_result"
    }
   ],
   "source": [
    "topic_tech = lemm_df.select('text').filter(lemm_df.topic == \"Technology\") \n",
    "topic_tech.count()"
   ]
  },
  {
   "cell_type": "code",
   "execution_count": 43,
   "metadata": {},
   "outputs": [
    {
     "data": {
      "text/plain": [
       "[['much funny point mention email game week research century poem final paper enjoy work swashbuckling adventure wintery hillsfar'],\n",
       " ['harper harper harper harper care harper harper stay motion harper harper heal potion harper harper pin green harper harper enter scene harper harper form bard harper harper get fuck kid jesus christ screw']]"
      ]
     },
     "execution_count": 43,
     "metadata": {},
     "output_type": "execute_result"
    }
   ],
   "source": [
    "topic_tech_rdd = topic_tech.rdd.map(list)\n",
    "topic_tech_rdd.take(2)"
   ]
  },
  {
   "cell_type": "code",
   "execution_count": 44,
   "metadata": {},
   "outputs": [
    {
     "data": {
      "text/plain": [
       "[\"'much funny point mention email game week research century poem final paper enjoy work swashbuckling adventure wintery hillsfar'\",\n",
       " \"'harper harper harper harper care harper harper stay motion harper harper heal potion harper harper pin green harper harper enter scene harper harper form bard harper harper get fuck kid jesus christ screw'\"]"
      ]
     },
     "execution_count": 44,
     "metadata": {},
     "output_type": "execute_result"
    }
   ],
   "source": [
    "topic_tech_rdd = topic_tech_rdd.map(lambda x: re.sub('\\[|\\]', '', str(x)))\n",
    "topic_tech_rdd.take(2)"
   ]
  },
  {
   "cell_type": "code",
   "execution_count": 45,
   "metadata": {},
   "outputs": [
    {
     "data": {
      "text/plain": [
       "[\"'much\",\n",
       " 'funny',\n",
       " 'point',\n",
       " 'mention',\n",
       " 'email',\n",
       " 'game',\n",
       " 'week',\n",
       " 'research',\n",
       " 'century',\n",
       " 'poem',\n",
       " 'final',\n",
       " 'paper',\n",
       " 'enjoy',\n",
       " 'work',\n",
       " 'swashbuckling',\n",
       " 'adventure',\n",
       " 'wintery',\n",
       " \"hillsfar'\",\n",
       " \"'harper\",\n",
       " 'harper']"
      ]
     },
     "execution_count": 45,
     "metadata": {},
     "output_type": "execute_result"
    }
   ],
   "source": [
    "split_rdd2 = topic_tech_rdd.flatMap(lambda line: line.split(\" \"))\n",
    "split_rdd2.take(20)"
   ]
  },
  {
   "cell_type": "code",
   "execution_count": 46,
   "metadata": {},
   "outputs": [
    {
     "name": "stdout",
     "output_type": "stream",
     "text": [
      "Total number of words in 'Technology' topic: 3040455\n"
     ]
    }
   ],
   "source": [
    "print(\"Total number of words in 'Technology' topic:\", split_rdd2.count())"
   ]
  },
  {
   "cell_type": "code",
   "execution_count": 48,
   "metadata": {},
   "outputs": [],
   "source": [
    "map_rdd2 = split_rdd2.map(lambda x: (x,1))\n",
    "reduce_rdd2 = map_rdd2.reduceByKey(lambda a,b: a+b)\n",
    "sort_rdd2 = reduce_rdd2.map(lambda x: (x[1],x[0])).sortByKey()"
   ]
  },
  {
   "cell_type": "markdown",
   "metadata": {},
   "source": [
    "show word count for topic \"Technology\""
   ]
  },
  {
   "cell_type": "code",
   "execution_count": 49,
   "metadata": {},
   "outputs": [
    {
     "data": {
      "text/plain": [
       "[(1, 'cormanthor'),\n",
       " (1, 'benevloent'),\n",
       " (1, \"rigger'\"),\n",
       " (1, 'dostoyevski'),\n",
       " (1, \"aaaahh'\"),\n",
       " (1, 'circlists'),\n",
       " (1, 'carytown'),\n",
       " (1, 'strassberger'),\n",
       " (1, 'shugborough'),\n",
       " (1, \"garfield'\"),\n",
       " (1, \"imagining'\"),\n",
       " (1, \"'eyeball\"),\n",
       " (1, \"solstice'\"),\n",
       " (1, 'malignancy'),\n",
       " (1, 'wisely'),\n",
       " (1, 'meandering'),\n",
       " (1, \"caesar'\"),\n",
       " (1, 'curtainloud'),\n",
       " (1, 'barnett'),\n",
       " (1, \"ebert'\")]"
      ]
     },
     "execution_count": 49,
     "metadata": {},
     "output_type": "execute_result"
    }
   ],
   "source": [
    "#for word in sort_rdd2.take(50):\n",
    "    #print(word[1], word[0])\n",
    "sort_rdd2.take(20)    "
   ]
  },
  {
   "cell_type": "code",
   "execution_count": 71,
   "metadata": {},
   "outputs": [
    {
     "name": "stdout",
     "output_type": "stream",
     "text": [
      "+------------+\n",
      "|          _2|\n",
      "+------------+\n",
      "|  cormanthor|\n",
      "|  benevloent|\n",
      "|     rigger'|\n",
      "| dostoyevski|\n",
      "|     aaaahh'|\n",
      "|   circlists|\n",
      "|    carytown|\n",
      "|strassberger|\n",
      "| shugborough|\n",
      "|   garfield'|\n",
      "|  imagining'|\n",
      "|    'eyeball|\n",
      "|   solstice'|\n",
      "|  malignancy|\n",
      "|      wisely|\n",
      "|  meandering|\n",
      "|     caesar'|\n",
      "| curtainloud|\n",
      "|     barnett|\n",
      "|      ebert'|\n",
      "+------------+\n",
      "only showing top 20 rows\n",
      "\n"
     ]
    }
   ],
   "source": [
    "sort_df2 = spark.createDataFrame(sort_rdd2)\n",
    "sort_df2.select(\"_2\").show()"
   ]
  },
  {
   "cell_type": "markdown",
   "metadata": {},
   "source": [
    "analyse topic \"Arts\""
   ]
  },
  {
   "cell_type": "code",
   "execution_count": 50,
   "metadata": {},
   "outputs": [
    {
     "data": {
      "text/plain": [
       "32449"
      ]
     },
     "execution_count": 50,
     "metadata": {},
     "output_type": "execute_result"
    }
   ],
   "source": [
    "topic_arts = lemm_df.select('text').filter(lemm_df.topic == \"Arts\") \n",
    "topic_arts.count()"
   ]
  },
  {
   "cell_type": "code",
   "execution_count": 51,
   "metadata": {},
   "outputs": [
    {
     "data": {
      "text/plain": [
       "[['current music magic donna summer feel blah late yeah post diary suchisthis server bitch vicky head kristen house bronx live matter spent night worth vicky ate lot chicken hot dog kill donut great fullfilling lol hour go go outside kristen neighbor light firework middle street cool start swift position go air go look go hit scream as run corner many come think purpose enjoy scream terrorize kristen blast laugh stand tomorrow hmm let as get burn block night ritual burning ritual lol vicky kristen burn everything plastic cup pop rock haha great think kristen slight fetish hot wax keep pour candle wrong know hot burn feel good try pours let ahh worry feel little darish tell flash air show thier bra pussy say like do anything let see do flash air feminine part know breast burn half cup ruin poor cement head night take shower get kris vicky come bathroom shower thier clothes world sharice come gonna fun get wash half little towel get soak know say fuck take naked great start wash thier hair vicky wash kristen wash vicky ahh hightlights night fun best july have peace moon card enter moon intuitive psychic realm stuff dream make dream imagery find inspire torment understand moon require look bodily rhythms echoed luminary circle month reflect sun progress listen rhythm produce vision lead towards insight moon force legends attached carry romance insanity moonlight reveals illusion willing work force dream able withstand reflective light image stevee postman urllink tarot card be bring urllink quizilla'],\n",
       " ['hey many thing expression hope much possible know blog have remain way sorry rudeness name sharice ppls call cherry mind alex alex alex want uhh suck reach way wanna girlfriend sigh alex come make happy know love say anything anything content']]"
      ]
     },
     "execution_count": 51,
     "metadata": {},
     "output_type": "execute_result"
    }
   ],
   "source": [
    "topic_arts_rdd = topic_arts.rdd.map(list)\n",
    "topic_arts_rdd.take(2)"
   ]
  },
  {
   "cell_type": "code",
   "execution_count": 52,
   "metadata": {},
   "outputs": [
    {
     "data": {
      "text/plain": [
       "[\"'current music magic donna summer feel blah late yeah post diary suchisthis server bitch vicky head kristen house bronx live matter spent night worth vicky ate lot chicken hot dog kill donut great fullfilling lol hour go go outside kristen neighbor light firework middle street cool start swift position go air go look go hit scream as run corner many come think purpose enjoy scream terrorize kristen blast laugh stand tomorrow hmm let as get burn block night ritual burning ritual lol vicky kristen burn everything plastic cup pop rock haha great think kristen slight fetish hot wax keep pour candle wrong know hot burn feel good try pours let ahh worry feel little darish tell flash air show thier bra pussy say like do anything let see do flash air feminine part know breast burn half cup ruin poor cement head night take shower get kris vicky come bathroom shower thier clothes world sharice come gonna fun get wash half little towel get soak know say fuck take naked great start wash thier hair vicky wash kristen wash vicky ahh hightlights night fun best july have peace moon card enter moon intuitive psychic realm stuff dream make dream imagery find inspire torment understand moon require look bodily rhythms echoed luminary circle month reflect sun progress listen rhythm produce vision lead towards insight moon force legends attached carry romance insanity moonlight reveals illusion willing work force dream able withstand reflective light image stevee postman urllink tarot card be bring urllink quizilla'\",\n",
       " \"'hey many thing expression hope much possible know blog have remain way sorry rudeness name sharice ppls call cherry mind alex alex alex want uhh suck reach way wanna girlfriend sigh alex come make happy know love say anything anything content'\"]"
      ]
     },
     "execution_count": 52,
     "metadata": {},
     "output_type": "execute_result"
    }
   ],
   "source": [
    "topic_arts_rdd = topic_arts_rdd.map(lambda x: re.sub('\\[|\\]', '', str(x)))\n",
    "topic_arts_rdd.take(2)"
   ]
  },
  {
   "cell_type": "code",
   "execution_count": 53,
   "metadata": {},
   "outputs": [
    {
     "data": {
      "text/plain": [
       "[\"'current\",\n",
       " 'music',\n",
       " 'magic',\n",
       " 'donna',\n",
       " 'summer',\n",
       " 'feel',\n",
       " 'blah',\n",
       " 'late',\n",
       " 'yeah',\n",
       " 'post',\n",
       " 'diary',\n",
       " 'suchisthis',\n",
       " 'server',\n",
       " 'bitch',\n",
       " 'vicky',\n",
       " 'head',\n",
       " 'kristen',\n",
       " 'house',\n",
       " 'bronx',\n",
       " 'live']"
      ]
     },
     "execution_count": 53,
     "metadata": {},
     "output_type": "execute_result"
    }
   ],
   "source": [
    "split_rdd3 = topic_arts_rdd.flatMap(lambda line: line.split(\" \"))\n",
    "split_rdd3.take(20)"
   ]
  },
  {
   "cell_type": "code",
   "execution_count": 54,
   "metadata": {},
   "outputs": [
    {
     "name": "stdout",
     "output_type": "stream",
     "text": [
      "Total number of words in 'Arts' topic: 2949699\n"
     ]
    }
   ],
   "source": [
    "#print(\"Total number of words in 'Arts' topic:\", split_rdd3.count())"
   ]
  },
  {
   "cell_type": "code",
   "execution_count": 55,
   "metadata": {},
   "outputs": [],
   "source": [
    "map_rdd3 = split_rdd3.map(lambda x: (x,1))\n",
    "reduce_rdd3 = map_rdd3.reduceByKey(lambda a,b: a+b)\n",
    "sort_rdd3 = reduce_rdd3.map(lambda x: (x[1],x[0])).sortByKey()"
   ]
  },
  {
   "cell_type": "markdown",
   "metadata": {},
   "source": [
    "show word count for topic \"Arts\""
   ]
  },
  {
   "cell_type": "code",
   "execution_count": 56,
   "metadata": {},
   "outputs": [
    {
     "data": {
      "text/plain": [
       "[(1, 'isipin'),\n",
       " (1, 'joga'),\n",
       " (1, 'nackered'),\n",
       " (1, 'tothom'),\n",
       " (1, 'fianceee'),\n",
       " (1, \"steffen'\"),\n",
       " (1, 'ffrench'),\n",
       " (1, 'trainees'),\n",
       " (1, 'theologicae'),\n",
       " (1, 'zyprexa'),\n",
       " (1, \"heck'\"),\n",
       " (1, 'trendwhore'),\n",
       " (1, 'secondborn'),\n",
       " (1, 'kirshenbaum'),\n",
       " (1, 'dontcha'),\n",
       " (1, 'sissssssy'),\n",
       " (1, 'ladylike'),\n",
       " (1, 'invovles'),\n",
       " (1, \"'mortal\"),\n",
       " (1, \"trucker'\")]"
      ]
     },
     "execution_count": 56,
     "metadata": {},
     "output_type": "execute_result"
    }
   ],
   "source": [
    "#for word in sort_rdd3.take(50):\n",
    "    #print(word[1], word[0])\n",
    "sort_rdd3.take(20)    "
   ]
  },
  {
   "cell_type": "code",
   "execution_count": 72,
   "metadata": {},
   "outputs": [
    {
     "name": "stdout",
     "output_type": "stream",
     "text": [
      "+-----------+\n",
      "|         _2|\n",
      "+-----------+\n",
      "|     isipin|\n",
      "|       joga|\n",
      "|   nackered|\n",
      "|     tothom|\n",
      "|   fianceee|\n",
      "|   steffen'|\n",
      "|    ffrench|\n",
      "|   trainees|\n",
      "|theologicae|\n",
      "|    zyprexa|\n",
      "|      heck'|\n",
      "| trendwhore|\n",
      "| secondborn|\n",
      "|kirshenbaum|\n",
      "|    dontcha|\n",
      "|  sissssssy|\n",
      "|   ladylike|\n",
      "|   invovles|\n",
      "|    'mortal|\n",
      "|   trucker'|\n",
      "+-----------+\n",
      "only showing top 20 rows\n",
      "\n"
     ]
    }
   ],
   "source": [
    "sort_df3 = spark.createDataFrame(sort_rdd3)\n",
    "sort_df3.select(\"_2\").show()"
   ]
  },
  {
   "cell_type": "markdown",
   "metadata": {},
   "source": [
    "analyse topic \"Education\""
   ]
  },
  {
   "cell_type": "code",
   "execution_count": 57,
   "metadata": {},
   "outputs": [
    {
     "data": {
      "text/plain": [
       "29633"
      ]
     },
     "execution_count": 57,
     "metadata": {},
     "output_type": "execute_result"
    }
   ],
   "source": [
    "topic_edu = lemm_df.select('text').filter(lemm_df.topic == \"Education\") \n",
    "topic_edu.count()"
   ]
  },
  {
   "cell_type": "code",
   "execution_count": 58,
   "metadata": {},
   "outputs": [
    {
     "data": {
      "text/plain": [
       "[['morning wake think day bed early hate get morning morning person morning person talk wake growl sweet tying rouse crave saturday wake deadline sleep go minute weekday begin perk start make coffee thank god coffee think make day snore end making day fight hell take nap afternoon hour become problem revolve fact stay til everynight teach school way real reason write novel develop photograph knit amazing sweater catch do nothing guess say night read watch read blog online talk west coast friend use stay watch letterman bore night owl remember stay late start elmentary school middle school remember watch saturday night live johnny carson family know quality bonding time remember college wish exam give night brain much alert convince improve grade wake everynight begin get thing do dish laundry phone call email project organize hour second remember want bed early feel shit morning roll think give hour think bed midnight get hour sleep sound good happens everynight stay thing bring enlightenment wish say extraordinary social life fill late night gallery opening wild party wash hair help friend pick perfect bridesmaid dress shut world book tonight let see read fabulous travel book london go obsess midnight tomorrow morning wake think day bed early'],\n",
       " ['pray tell design apartment building hear everything happen apartment complete utter accuracy mean hard place sound absorb panel floor build think architect think neighbor downstairs college student live beautiful populate elderly young professional college attend apartment complex know know know boy girl know boy play guitar try sing dave matthew song know girl put jason mraz connection musician blow mind friend college brat know know hear boy cough time mean hear wonder tonight listen radio think subwoofer crank sit try watch listen music hear deep voice bass blow nice ready lend sugar bake something neighbor turn subwoofer maximum take slacker kind subwoofer brother instal put maximum told neighbor need lower lot lower much thinking people reason retaliation think bang ceiling floor think loud loud kind noise hate quiet watch bang check volume bar people pay enough rent listen fucking bar sure bang wonder sometimes imagination pound sound rapid succession day come walked door heard bang throw stuff yelled floor make noise open door phantom mouse run drive crazy monitoring volume help remember friend episode old neighbor bang ceiling friend make noise dy apartment hear sound party go apartment happen building know turn noise hear bang course tonight subwoofer war game']]"
      ]
     },
     "execution_count": 58,
     "metadata": {},
     "output_type": "execute_result"
    }
   ],
   "source": [
    "topic_edu_rdd = topic_edu.rdd.map(list)\n",
    "topic_edu_rdd.take(2)"
   ]
  },
  {
   "cell_type": "code",
   "execution_count": 59,
   "metadata": {},
   "outputs": [
    {
     "data": {
      "text/plain": [
       "[\"'morning wake think day bed early hate get morning morning person morning person talk wake growl sweet tying rouse crave saturday wake deadline sleep go minute weekday begin perk start make coffee thank god coffee think make day snore end making day fight hell take nap afternoon hour become problem revolve fact stay til everynight teach school way real reason write novel develop photograph knit amazing sweater catch do nothing guess say night read watch read blog online talk west coast friend use stay watch letterman bore night owl remember stay late start elmentary school middle school remember watch saturday night live johnny carson family know quality bonding time remember college wish exam give night brain much alert convince improve grade wake everynight begin get thing do dish laundry phone call email project organize hour second remember want bed early feel shit morning roll think give hour think bed midnight get hour sleep sound good happens everynight stay thing bring enlightenment wish say extraordinary social life fill late night gallery opening wild party wash hair help friend pick perfect bridesmaid dress shut world book tonight let see read fabulous travel book london go obsess midnight tomorrow morning wake think day bed early'\",\n",
       " \"'pray tell design apartment building hear everything happen apartment complete utter accuracy mean hard place sound absorb panel floor build think architect think neighbor downstairs college student live beautiful populate elderly young professional college attend apartment complex know know know boy girl know boy play guitar try sing dave matthew song know girl put jason mraz connection musician blow mind friend college brat know know hear boy cough time mean hear wonder tonight listen radio think subwoofer crank sit try watch listen music hear deep voice bass blow nice ready lend sugar bake something neighbor turn subwoofer maximum take slacker kind subwoofer brother instal put maximum told neighbor need lower lot lower much thinking people reason retaliation think bang ceiling floor think loud loud kind noise hate quiet watch bang check volume bar people pay enough rent listen fucking bar sure bang wonder sometimes imagination pound sound rapid succession day come walked door heard bang throw stuff yelled floor make noise open door phantom mouse run drive crazy monitoring volume help remember friend episode old neighbor bang ceiling friend make noise dy apartment hear sound party go apartment happen building know turn noise hear bang course tonight subwoofer war game'\"]"
      ]
     },
     "execution_count": 59,
     "metadata": {},
     "output_type": "execute_result"
    }
   ],
   "source": [
    "topic_edu_rdd = topic_edu_rdd.map(lambda x: re.sub('\\[|\\]', '', str(x)))\n",
    "topic_edu_rdd.take(2)"
   ]
  },
  {
   "cell_type": "code",
   "execution_count": 60,
   "metadata": {},
   "outputs": [
    {
     "data": {
      "text/plain": [
       "[\"'morning\",\n",
       " 'wake',\n",
       " 'think',\n",
       " 'day',\n",
       " 'bed',\n",
       " 'early',\n",
       " 'hate',\n",
       " 'get',\n",
       " 'morning',\n",
       " 'morning',\n",
       " 'person',\n",
       " 'morning',\n",
       " 'person',\n",
       " 'talk',\n",
       " 'wake',\n",
       " 'growl',\n",
       " 'sweet',\n",
       " 'tying',\n",
       " 'rouse',\n",
       " 'crave']"
      ]
     },
     "execution_count": 60,
     "metadata": {},
     "output_type": "execute_result"
    }
   ],
   "source": [
    "split_rdd4 = topic_edu_rdd.flatMap(lambda line: line.split(\" \"))\n",
    "split_rdd4.take(20)"
   ]
  },
  {
   "cell_type": "code",
   "execution_count": 61,
   "metadata": {},
   "outputs": [],
   "source": [
    "#print(\"Total number of words in 'Education' topic:\", split_rdd4.count())"
   ]
  },
  {
   "cell_type": "code",
   "execution_count": 62,
   "metadata": {},
   "outputs": [],
   "source": [
    "map_rdd4 = split_rdd4.map(lambda x: (x,1))\n",
    "reduce_rdd4 = map_rdd4.reduceByKey(lambda a,b: a+b)\n",
    "sort_rdd4 = reduce_rdd4.map(lambda x: (x[1],x[0])).sortByKey()"
   ]
  },
  {
   "cell_type": "markdown",
   "metadata": {},
   "source": [
    "show word count for topic \"Education\""
   ]
  },
  {
   "cell_type": "code",
   "execution_count": 63,
   "metadata": {},
   "outputs": [
    {
     "data": {
      "text/plain": [
       "[(1, 'pkwy'),\n",
       " (1, 'carytown'),\n",
       " (1, 'quetions'),\n",
       " (1, 'professionalhood'),\n",
       " (1, 'foxfields'),\n",
       " (1, 'cigarretes'),\n",
       " (1, 'youalways'),\n",
       " (1, 'scrutinise'),\n",
       " (1, 'vio'),\n",
       " (1, 'plastisin'),\n",
       " (1, 'alwiz'),\n",
       " (1, 'metagrobolizing'),\n",
       " (1, 'leet'),\n",
       " (1, \"'blogg\"),\n",
       " (1, 'turux'),\n",
       " (1, \"abou'\"),\n",
       " (1, 'sydneysiders'),\n",
       " (1, 'spealing'),\n",
       " (1, 'livermores'),\n",
       " (1, 'pathless')]"
      ]
     },
     "execution_count": 63,
     "metadata": {},
     "output_type": "execute_result"
    }
   ],
   "source": [
    "#for word in sort_rdd4.take(50):\n",
    "    #print(word[1], word[0])\n",
    "sort_rdd4.take(20)    "
   ]
  },
  {
   "cell_type": "code",
   "execution_count": 65,
   "metadata": {},
   "outputs": [],
   "source": [
    "sort_df4 = spark.createDataFrame(sort_rdd4) "
   ]
  },
  {
   "cell_type": "code",
   "execution_count": 66,
   "metadata": {},
   "outputs": [
    {
     "name": "stdout",
     "output_type": "stream",
     "text": [
      "+---+----------------+\n",
      "| _1|              _2|\n",
      "+---+----------------+\n",
      "|  1|            pkwy|\n",
      "|  1|        carytown|\n",
      "|  1|        quetions|\n",
      "|  1|professionalhood|\n",
      "|  1|       foxfields|\n",
      "|  1|      cigarretes|\n",
      "|  1|       youalways|\n",
      "|  1|      scrutinise|\n",
      "|  1|             vio|\n",
      "|  1|       plastisin|\n",
      "|  1|           alwiz|\n",
      "|  1| metagrobolizing|\n",
      "|  1|            leet|\n",
      "|  1|          'blogg|\n",
      "|  1|           turux|\n",
      "|  1|           abou'|\n",
      "|  1|    sydneysiders|\n",
      "|  1|        spealing|\n",
      "|  1|      livermores|\n",
      "|  1|        pathless|\n",
      "+---+----------------+\n",
      "only showing top 20 rows\n",
      "\n"
     ]
    }
   ],
   "source": [
    "sort_df4.show()"
   ]
  },
  {
   "cell_type": "code",
   "execution_count": 67,
   "metadata": {},
   "outputs": [
    {
     "name": "stdout",
     "output_type": "stream",
     "text": [
      "+----------------+\n",
      "|              _2|\n",
      "+----------------+\n",
      "|            pkwy|\n",
      "|        carytown|\n",
      "|        quetions|\n",
      "|professionalhood|\n",
      "|       foxfields|\n",
      "|      cigarretes|\n",
      "|       youalways|\n",
      "|      scrutinise|\n",
      "|             vio|\n",
      "|       plastisin|\n",
      "|           alwiz|\n",
      "| metagrobolizing|\n",
      "|            leet|\n",
      "|          'blogg|\n",
      "|           turux|\n",
      "|           abou'|\n",
      "|    sydneysiders|\n",
      "|        spealing|\n",
      "|      livermores|\n",
      "|        pathless|\n",
      "+----------------+\n",
      "only showing top 20 rows\n",
      "\n"
     ]
    }
   ],
   "source": [
    "sort_df4.select(\"_2\").show()"
   ]
  },
  {
   "cell_type": "code",
   "execution_count": null,
   "metadata": {},
   "outputs": [],
   "source": []
  }
 ],
 "metadata": {
  "kernelspec": {
   "display_name": "Python 3",
   "language": "python",
   "name": "python3"
  },
  "language_info": {
   "codemirror_mode": {
    "name": "ipython",
    "version": 3
   },
   "file_extension": ".py",
   "mimetype": "text/x-python",
   "name": "python",
   "nbconvert_exporter": "python",
   "pygments_lexer": "ipython3",
   "version": "3.6.9"
  }
 },
 "nbformat": 4,
 "nbformat_minor": 4
}
